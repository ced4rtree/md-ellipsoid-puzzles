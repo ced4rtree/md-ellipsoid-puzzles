{
 "cells": [
  {
   "cell_type": "code",
   "execution_count": 11,
   "id": "2b3afdd1-7557-42b4-b76a-d7f18ab65e6c",
   "metadata": {},
   "outputs": [],
   "source": [
    "import warnings\n",
    "\n",
    "warnings.filterwarnings(\"ignore\")"
   ]
  },
  {
   "cell_type": "code",
   "execution_count": 12,
   "id": "b83f1bcf-4d28-41aa-adea-93b2850ad049",
   "metadata": {},
   "outputs": [],
   "source": [
    "from flowermd.library import EllipsoidChain, EllipsoidForcefield\n",
    "from flowermd import Pack, Simulation\n",
    "from flowermd.utils import create_rigid_ellipsoid_chain, get_target_box_number_density\n",
    "import unyt as u\n",
    "from cmeutils.gsd_utils import ellipsoid_gsd\n",
    "import gsd.hoomd"
   ]
  },
  {
   "cell_type": "code",
   "execution_count": 13,
   "id": "f135b5d8-c89f-4675-99d8-ebd69abc1d88",
   "metadata": {},
   "outputs": [],
   "source": [
    "ellipsoids = EllipsoidChain(lengths=1, num_mols=128, bead_mass=1.0, lpar=1.0)"
   ]
  },
  {
   "cell_type": "code",
   "execution_count": 14,
   "id": "9f77b7b8-4412-40fe-a1af-3ee1f6454f1b",
   "metadata": {},
   "outputs": [],
   "source": [
    "system = Pack(\n",
    "    density=0.15*u.Unit(\"nm**-3\"),\n",
    "    molecules=ellipsoids,\n",
    "    packing_expand_factor=6,\n",
    "    edge=2, overlap=1,\n",
    "    fix_orientation=True\n",
    ")"
   ]
  },
  {
   "cell_type": "code",
   "execution_count": 15,
   "id": "4ce81538-cec0-44af-bb1d-750e8a70c585",
   "metadata": {},
   "outputs": [],
   "source": [
    "forcefield = EllipsoidForcefield(\n",
    "    bond_k=100, bond_r0=0,\n",
    "    epsilon=1.0,\n",
    "    lpar=1.0,\n",
    "    lperp=0.5,\n",
    "    r_cut=2.0\n",
    ")\n",
    "rigid_frame, rigid_constraint = create_rigid_ellipsoid_chain(snapshot=system.hoomd_snapshot)"
   ]
  },
  {
   "cell_type": "code",
   "execution_count": 16,
   "id": "e2e7f672-149d-4f7d-9932-95d8ff3a6e31",
   "metadata": {},
   "outputs": [
    {
     "name": "stdout",
     "output_type": "stream",
     "text": [
      "Initializing simulation state from a gsd.hoomd.Frame.\n"
     ]
    }
   ],
   "source": [
    "sim = Simulation(\n",
    "    constraint=rigid_constraint,\n",
    "    forcefield=forcefield.hoomd_forces,\n",
    "    gsd_file_name=\"ellipsoid_overlap.gsd\",\n",
    "    log_file_name=\"ellipsoid_overlap.txt\",\n",
    "    initial_state=rigid_frame,\n",
    "    gsd_write_freq=100\n",
    ")"
   ]
  },
  {
   "cell_type": "markdown",
   "id": "d2671414-1b88-4a97-adf2-8da6acbeaf51",
   "metadata": {},
   "source": [
    "Initial Parameters:\n",
    " - density: 1.0\n",
    " - period: 10\n",
    " - n_steps: 6e4\n",
    " - kT: 7.0\n",
    " - tau_kt: 100*sim.dt\n",
    " - thermalize_particles: True"
   ]
  },
  {
   "cell_type": "code",
   "execution_count": 17,
   "id": "0d3462e2-4287-4ce3-b7ad-b7ce0bc51f2a",
   "metadata": {
    "scrolled": true
   },
   "outputs": [
    {
     "name": "stdout",
     "output_type": "stream",
     "text": [
      "Step 550 of 60000; TPS: 1468.07; ETA: 0.7 minutes\n",
      "Step 1100 of 60000; TPS: 2179.69; ETA: 0.5 minutes\n",
      "Step 1650 of 60000; TPS: 2714.68; ETA: 0.4 minutes\n",
      "Step 2200 of 60000; TPS: 3167.74; ETA: 0.3 minutes\n",
      "Step 2750 of 60000; TPS: 3515.59; ETA: 0.3 minutes\n",
      "Step 3300 of 60000; TPS: 3744.6; ETA: 0.3 minutes\n",
      "Step 3850 of 60000; TPS: 3979.81; ETA: 0.2 minutes\n",
      "Step 4400 of 60000; TPS: 4180.17; ETA: 0.2 minutes\n",
      "Step 4950 of 60000; TPS: 4311.4; ETA: 0.2 minutes\n",
      "Step 5500 of 60000; TPS: 4458.3; ETA: 0.2 minutes\n",
      "Step 6050 of 60000; TPS: 4588.58; ETA: 0.2 minutes\n",
      "Step 6600 of 60000; TPS: 4670.78; ETA: 0.2 minutes\n",
      "Step 7150 of 60000; TPS: 4772.92; ETA: 0.2 minutes\n",
      "Step 7700 of 60000; TPS: 4858.32; ETA: 0.2 minutes\n",
      "Step 8250 of 60000; TPS: 4913.68; ETA: 0.2 minutes\n",
      "Step 8800 of 60000; TPS: 4981.75; ETA: 0.2 minutes\n",
      "Step 9350 of 60000; TPS: 5045.75; ETA: 0.2 minutes\n",
      "Step 9900 of 60000; TPS: 5082.95; ETA: 0.2 minutes\n",
      "Step 10450 of 60000; TPS: 5134.34; ETA: 0.2 minutes\n",
      "Step 11000 of 60000; TPS: 5183.33; ETA: 0.2 minutes\n",
      "Step 11550 of 60000; TPS: 5213.98; ETA: 0.2 minutes\n",
      "Step 12100 of 60000; TPS: 5251.44; ETA: 0.2 minutes\n",
      "Step 12650 of 60000; TPS: 5290.18; ETA: 0.1 minutes\n",
      "Step 13200 of 60000; TPS: 5308.69; ETA: 0.1 minutes\n",
      "Step 13750 of 60000; TPS: 5342.64; ETA: 0.1 minutes\n",
      "Step 14300 of 60000; TPS: 5373.49; ETA: 0.1 minutes\n",
      "Step 14850 of 60000; TPS: 5394.21; ETA: 0.1 minutes\n",
      "Step 15400 of 60000; TPS: 5422.0; ETA: 0.1 minutes\n",
      "Step 15950 of 60000; TPS: 5443.13; ETA: 0.1 minutes\n",
      "Step 16500 of 60000; TPS: 5454.11; ETA: 0.1 minutes\n",
      "Step 17050 of 60000; TPS: 5477.88; ETA: 0.1 minutes\n",
      "Step 17600 of 60000; TPS: 5498.31; ETA: 0.1 minutes\n",
      "Step 18150 of 60000; TPS: 5506.69; ETA: 0.1 minutes\n",
      "Step 18700 of 60000; TPS: 5522.69; ETA: 0.1 minutes\n",
      "Step 19250 of 60000; TPS: 5539.54; ETA: 0.1 minutes\n",
      "Step 19800 of 60000; TPS: 5538.55; ETA: 0.1 minutes\n",
      "Step 20350 of 60000; TPS: 5548.52; ETA: 0.1 minutes\n",
      "Step 20900 of 60000; TPS: 5561.65; ETA: 0.1 minutes\n",
      "Step 21450 of 60000; TPS: 5567.29; ETA: 0.1 minutes\n",
      "Step 22000 of 60000; TPS: 5578.77; ETA: 0.1 minutes\n",
      "Step 22550 of 60000; TPS: 5587.88; ETA: 0.1 minutes\n",
      "Step 23100 of 60000; TPS: 5596.12; ETA: 0.1 minutes\n",
      "Step 23650 of 60000; TPS: 5599.46; ETA: 0.1 minutes\n",
      "Step 24200 of 60000; TPS: 5606.83; ETA: 0.1 minutes\n",
      "Step 24750 of 60000; TPS: 5611.98; ETA: 0.1 minutes\n",
      "Step 25300 of 60000; TPS: 5612.51; ETA: 0.1 minutes\n",
      "Step 25850 of 60000; TPS: 5620.35; ETA: 0.1 minutes\n",
      "Step 26400 of 60000; TPS: 5626.88; ETA: 0.1 minutes\n",
      "Step 26950 of 60000; TPS: 5628.28; ETA: 0.1 minutes\n",
      "Step 27500 of 60000; TPS: 5629.71; ETA: 0.1 minutes\n",
      "Step 28050 of 60000; TPS: 5633.18; ETA: 0.1 minutes\n",
      "Step 28600 of 60000; TPS: 5631.75; ETA: 0.1 minutes\n",
      "Step 29150 of 60000; TPS: 5632.82; ETA: 0.1 minutes\n",
      "Step 29700 of 60000; TPS: 5635.22; ETA: 0.1 minutes\n",
      "Step 30250 of 60000; TPS: 5634.33; ETA: 0.1 minutes\n",
      "Step 30800 of 60000; TPS: 5637.98; ETA: 0.1 minutes\n",
      "Step 31350 of 60000; TPS: 5642.69; ETA: 0.1 minutes\n",
      "Step 31900 of 60000; TPS: 5645.1; ETA: 0.1 minutes\n",
      "Step 32450 of 60000; TPS: 5649.82; ETA: 0.1 minutes\n",
      "Step 33000 of 60000; TPS: 5655.01; ETA: 0.1 minutes\n",
      "Step 33550 of 60000; TPS: 5659.44; ETA: 0.1 minutes\n",
      "Step 34100 of 60000; TPS: 5664.58; ETA: 0.1 minutes\n",
      "Step 34650 of 60000; TPS: 5668.14; ETA: 0.1 minutes\n",
      "Step 35200 of 60000; TPS: 5671.82; ETA: 0.1 minutes\n",
      "Step 35750 of 60000; TPS: 5676.93; ETA: 0.1 minutes\n",
      "Step 36300 of 60000; TPS: 5679.07; ETA: 0.1 minutes\n",
      "Step 36850 of 60000; TPS: 5680.33; ETA: 0.1 minutes\n",
      "Step 37400 of 60000; TPS: 5682.22; ETA: 0.1 minutes\n",
      "Step 37950 of 60000; TPS: 5685.08; ETA: 0.1 minutes\n",
      "Step 38500 of 60000; TPS: 5685.11; ETA: 0.1 minutes\n",
      "Step 39050 of 60000; TPS: 5685.49; ETA: 0.1 minutes\n",
      "Step 39600 of 60000; TPS: 5684.07; ETA: 0.1 minutes\n",
      "Step 40150 of 60000; TPS: 5683.28; ETA: 0.1 minutes\n",
      "Step 40700 of 60000; TPS: 5682.61; ETA: 0.1 minutes\n",
      "Step 41250 of 60000; TPS: 5681.95; ETA: 0.1 minutes\n",
      "Step 41800 of 60000; TPS: 5681.0; ETA: 0.1 minutes\n",
      "Step 42350 of 60000; TPS: 5680.53; ETA: 0.1 minutes\n",
      "Step 42900 of 60000; TPS: 5679.48; ETA: 0.1 minutes\n",
      "Step 43450 of 60000; TPS: 5676.66; ETA: 0.0 minutes\n",
      "Step 44000 of 60000; TPS: 5674.85; ETA: 0.0 minutes\n",
      "Step 44550 of 60000; TPS: 5671.75; ETA: 0.0 minutes\n",
      "Step 45100 of 60000; TPS: 5664.13; ETA: 0.0 minutes\n",
      "Step 45650 of 60000; TPS: 5659.28; ETA: 0.0 minutes\n",
      "Step 46200 of 60000; TPS: 5651.99; ETA: 0.0 minutes\n",
      "Step 46750 of 60000; TPS: 5643.03; ETA: 0.0 minutes\n",
      "Step 47300 of 60000; TPS: 5629.41; ETA: 0.0 minutes\n",
      "Step 47850 of 60000; TPS: 5615.2; ETA: 0.0 minutes\n",
      "Step 48400 of 60000; TPS: 5601.74; ETA: 0.0 minutes\n",
      "Step 48950 of 60000; TPS: 5588.78; ETA: 0.0 minutes\n",
      "Step 49500 of 60000; TPS: 5576.36; ETA: 0.0 minutes\n",
      "Step 50050 of 60000; TPS: 5564.12; ETA: 0.0 minutes\n",
      "Step 50600 of 60000; TPS: 5551.58; ETA: 0.0 minutes\n",
      "Step 51150 of 60000; TPS: 5538.14; ETA: 0.0 minutes\n",
      "Step 51700 of 60000; TPS: 5525.51; ETA: 0.0 minutes\n",
      "Step 52250 of 60000; TPS: 5509.92; ETA: 0.0 minutes\n",
      "Step 52800 of 60000; TPS: 5496.05; ETA: 0.0 minutes\n",
      "Step 53350 of 60000; TPS: 5479.47; ETA: 0.0 minutes\n",
      "Step 53900 of 60000; TPS: 5460.9; ETA: 0.0 minutes\n",
      "Step 54450 of 60000; TPS: 5441.05; ETA: 0.0 minutes\n",
      "Step 55000 of 60000; TPS: 5416.63; ETA: 0.0 minutes\n",
      "Step 55550 of 60000; TPS: 5389.98; ETA: 0.0 minutes\n",
      "Step 56100 of 60000; TPS: 5359.82; ETA: 0.0 minutes\n",
      "Step 56650 of 60000; TPS: 5321.98; ETA: 0.0 minutes\n",
      "Step 57200 of 60000; TPS: 5276.98; ETA: 0.0 minutes\n",
      "Step 57750 of 60000; TPS: 5216.68; ETA: 0.0 minutes\n",
      "Step 58300 of 60000; TPS: 5140.64; ETA: 0.0 minutes\n",
      "Step 58850 of 60000; TPS: 5038.97; ETA: 0.0 minutes\n",
      "Step 59400 of 60000; TPS: 4907.97; ETA: 0.0 minutes\n",
      "Step 59950 of 60000; TPS: 4725.95; ETA: 0.0 minutes\n"
     ]
    }
   ],
   "source": [
    "target_box = get_target_box_number_density(1.0*u.Unit(\"nm**-3\"), n_beads=128)\n",
    "sim.run_update_volume(\n",
    "    final_box_lengths=target_box,\n",
    "    period=10,\n",
    "    n_steps=6e4,\n",
    "    kT=7.0,\n",
    "    tau_kt=100*sim.dt,\n",
    "    thermalize_particles=True,\n",
    ")"
   ]
  },
  {
   "cell_type": "code",
   "execution_count": 18,
   "id": "7801e066-036b-453a-822b-a64dc585e3d9",
   "metadata": {},
   "outputs": [
    {
     "name": "stdout",
     "output_type": "stream",
     "text": [
      "Step 499 of 20000; TPS: 737.05; ETA: 0.4 minutes\n",
      "Step 1049 of 20000; TPS: 728.96; ETA: 0.4 minutes\n",
      "Step 1599 of 20000; TPS: 741.15; ETA: 0.4 minutes\n",
      "Step 2149 of 20000; TPS: 737.34; ETA: 0.4 minutes\n",
      "Step 2699 of 20000; TPS: 741.58; ETA: 0.4 minutes\n",
      "Step 3249 of 20000; TPS: 735.5; ETA: 0.4 minutes\n",
      "Step 3799 of 20000; TPS: 738.15; ETA: 0.4 minutes\n",
      "Step 4349 of 20000; TPS: 738.13; ETA: 0.4 minutes\n",
      "Step 4899 of 20000; TPS: 737.6; ETA: 0.3 minutes\n",
      "Step 5449 of 20000; TPS: 738.53; ETA: 0.3 minutes\n",
      "Step 5999 of 20000; TPS: 740.12; ETA: 0.3 minutes\n",
      "Step 6549 of 20000; TPS: 738.78; ETA: 0.3 minutes\n",
      "Step 7099 of 20000; TPS: 739.72; ETA: 0.3 minutes\n",
      "Step 7649 of 20000; TPS: 740.74; ETA: 0.3 minutes\n",
      "Step 8199 of 20000; TPS: 740.84; ETA: 0.3 minutes\n",
      "Step 8749 of 20000; TPS: 740.63; ETA: 0.3 minutes\n",
      "Step 9299 of 20000; TPS: 741.57; ETA: 0.2 minutes\n",
      "Step 9849 of 20000; TPS: 741.94; ETA: 0.2 minutes\n",
      "Step 10399 of 20000; TPS: 742.03; ETA: 0.2 minutes\n",
      "Step 10949 of 20000; TPS: 742.06; ETA: 0.2 minutes\n",
      "Step 11499 of 20000; TPS: 742.15; ETA: 0.2 minutes\n",
      "Step 12049 of 20000; TPS: 742.71; ETA: 0.2 minutes\n",
      "Step 12599 of 20000; TPS: 742.94; ETA: 0.2 minutes\n",
      "Step 13149 of 20000; TPS: 743.0; ETA: 0.2 minutes\n",
      "Step 13699 of 20000; TPS: 743.19; ETA: 0.1 minutes\n",
      "Step 14249 of 20000; TPS: 743.3; ETA: 0.1 minutes\n",
      "Step 14799 of 20000; TPS: 742.33; ETA: 0.1 minutes\n",
      "Step 15349 of 20000; TPS: 742.32; ETA: 0.1 minutes\n",
      "Step 15899 of 20000; TPS: 742.27; ETA: 0.1 minutes\n",
      "Step 16449 of 20000; TPS: 742.03; ETA: 0.1 minutes\n",
      "Step 16999 of 20000; TPS: 742.33; ETA: 0.1 minutes\n",
      "Step 17549 of 20000; TPS: 742.28; ETA: 0.1 minutes\n",
      "Step 18099 of 20000; TPS: 742.16; ETA: 0.0 minutes\n",
      "Step 18649 of 20000; TPS: 742.08; ETA: 0.0 minutes\n",
      "Step 19199 of 20000; TPS: 741.61; ETA: 0.0 minutes\n",
      "Step 19749 of 20000; TPS: 740.94; ETA: 0.0 minutes\n"
     ]
    }
   ],
   "source": [
    "sim.run_NVT(n_steps=2e4, kT=1.0, tau_kt=0.001)\n",
    "sim.flush_writers()\n"
   ]
  },
  {
   "cell_type": "code",
   "execution_count": 19,
   "id": "cbcf358b-dcb6-4f62-bfeb-3d4ab301fbdb",
   "metadata": {},
   "outputs": [],
   "source": [
    "ellipsoid_gsd_better(gsd_file=\"ellipsoid_overlap.gsd\", new_file=\"ovito-ellipsoid_overlap.gsd\", ellipsoid_types='R', lpar=1.0, lperp=0.5)"
   ]
  },
  {
   "cell_type": "code",
   "execution_count": 9,
   "id": "cc67c02c-ed3b-4c99-8421-7c07f83b0ad1",
   "metadata": {
    "jupyter": {
     "source_hidden": true
    }
   },
   "outputs": [],
   "source": [
    "def ellipsoid_gsd_better(gsd_file, new_file, ellipsoid_types, lpar, lperp):\n",
    "    \"\"\"Add needed information to GSD file to visualize ellipsoids.\n",
    "\n",
    "    Saves a new GSD file with lpar and lperp values populated\n",
    "    for each particle. Ovito can be used to visualize the new GSD file.\n",
    "\n",
    "    Parameters\n",
    "    ----------\n",
    "    gsd_file : str\n",
    "        Path to the original GSD file containing trajectory information\n",
    "    new_file : str\n",
    "        Path and filename of the new GSD file\n",
    "    ellipsoid_types : str or list of str\n",
    "        The particle types (i.e. names) of particles to be drawn\n",
    "        as ellipsoids.\n",
    "    lpar : float\n",
    "        Value of lpar of the ellipsoids\n",
    "    lperp : float\n",
    "        Value of lperp of the ellipsoids\n",
    "\n",
    "    \"\"\"\n",
    "    with gsd.hoomd.open(new_file, \"w\") as new_t:\n",
    "        with gsd.hoomd.open(gsd_file) as old_t:\n",
    "            for snap in old_t:\n",
    "                shape_dicts_list = []\n",
    "                for ptype in snap.particles.types:\n",
    "                    if ptype == ellipsoid_types or ptype in ellipsoid_types:\n",
    "                        shapes_dict = {\n",
    "                            \"type\": \"Ellipsoid\",\n",
    "                            \"a\": lpar,\n",
    "                            \"b\": lperp,\n",
    "                            \"c\": lperp,\n",
    "                        }\n",
    "                    else:\n",
    "                        shapes_dict = {\"type\": \"Sphere\", \"diameter\": 0.001}\n",
    "                    shape_dicts_list.append(shapes_dict)\n",
    "                snap.particles.type_shapes = shape_dicts_list\n",
    "                snap.validate()\n",
    "                new_t.append(snap)"
   ]
  },
  {
   "cell_type": "code",
   "execution_count": null,
   "id": "9f8501ee-817a-4b25-a608-58f66e139ba7",
   "metadata": {},
   "outputs": [],
   "source": []
  }
 ],
 "metadata": {
  "kernelspec": {
   "display_name": "Python 3 (ipykernel)",
   "language": "python",
   "name": "python3"
  },
  "language_info": {
   "codemirror_mode": {
    "name": "ipython",
    "version": 3
   },
   "file_extension": ".py",
   "mimetype": "text/x-python",
   "name": "python",
   "nbconvert_exporter": "python",
   "pygments_lexer": "ipython3",
   "version": "3.12.10"
  }
 },
 "nbformat": 4,
 "nbformat_minor": 5
}
